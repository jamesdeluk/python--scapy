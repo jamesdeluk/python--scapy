{
 "cells": [
  {
   "cell_type": "code",
   "execution_count": 1,
   "metadata": {},
   "outputs": [],
   "source": [
    "from scapy.all import *"
   ]
  },
  {
   "cell_type": "code",
   "execution_count": 2,
   "metadata": {},
   "outputs": [],
   "source": [
    "sniffed = sniff(count=10)"
   ]
  },
  {
   "cell_type": "code",
   "execution_count": 10,
   "metadata": {},
   "outputs": [],
   "source": [
    "wrpcap(\"sniffed.pcap\", sniffed)"
   ]
  },
  {
   "cell_type": "code",
   "execution_count": 12,
   "metadata": {},
   "outputs": [],
   "source": [
    "ursnif = rdpcap(\"Ursnif-traffic-example-5.pcap\")"
   ]
  },
  {
   "cell_type": "code",
   "execution_count": 17,
   "metadata": {},
   "outputs": [
    {
     "data": {
      "text/plain": [
       "{'10.11.21.1',\n",
       " '10.11.21.101',\n",
       " '10.11.21.255',\n",
       " '104.124.58.136',\n",
       " '104.31.89.212',\n",
       " '13.107.21.200',\n",
       " '172.217.1.37',\n",
       " '172.217.1.46',\n",
       " '172.217.12.36',\n",
       " '172.217.12.37',\n",
       " '172.217.4.197',\n",
       " '172.217.4.69',\n",
       " '172.217.8.206',\n",
       " '178.57.217.57',\n",
       " '185.118.165.109',\n",
       " '185.99.133.38',\n",
       " '198.105.244.64',\n",
       " '198.105.254.64',\n",
       " '198.70.69.145',\n",
       " '208.67.222.222',\n",
       " '216.58.192.174',\n",
       " '216.58.193.142',\n",
       " '216.58.194.101',\n",
       " '224.0.0.22',\n",
       " '224.0.0.252',\n",
       " '255.255.255.255',\n",
       " '45.132.19.167',\n",
       " '5.61.34.51',\n",
       " '72.21.81.200',\n",
       " '72.21.81.240'}"
      ]
     },
     "execution_count": 17,
     "metadata": {},
     "output_type": "execute_result"
    }
   ],
   "source": [
    "unique_ips = set()\n",
    "for packet in ursnif:\n",
    "    unique_ips.add(packet[IP].dst)\n",
    "    unique_ips.add(packet[IP].src)\n",
    "unique_ips"
   ]
  }
 ],
 "metadata": {
  "kernelspec": {
   "display_name": "Python 3",
   "language": "python",
   "name": "python3"
  },
  "language_info": {
   "codemirror_mode": {
    "name": "ipython",
    "version": 3
   },
   "file_extension": ".py",
   "mimetype": "text/x-python",
   "name": "python",
   "nbconvert_exporter": "python",
   "pygments_lexer": "ipython3",
   "version": "3.8.3"
  }
 },
 "nbformat": 4,
 "nbformat_minor": 4
}
